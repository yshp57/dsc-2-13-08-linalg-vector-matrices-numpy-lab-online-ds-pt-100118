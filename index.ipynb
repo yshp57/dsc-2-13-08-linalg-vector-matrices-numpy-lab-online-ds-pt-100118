{
 "cells": [
  {
   "cell_type": "markdown",
   "metadata": {},
   "source": [
    "# Vectors and Matrices in Numpy - Lab\n",
    "\n",
    "## Introduction\n",
    "\n",
    "This lab will ask you to perform some simple matrix creation and manipulation exercises based on what we have covered so far in this section. The key takeaway here for you is to be able to understand how to using indexing with matrices and vectors while applying some basic operations.\n",
    "\n",
    "## Objectives\n",
    "You will be able to:\n",
    "* Define vectors and matrices in NumPy\n",
    "* Check the shape of vectors and matrices\n",
    "* Access and manipulate individual scalar components of a matrix. "
   ]
  },
  {
   "cell_type": "markdown",
   "metadata": {},
   "source": [
    "## 1. Define two arrays A (4x2) and B (2x3) \n",
    "```\n",
    "A = 1402, 191 \n",
    "    1371, 821 \n",
    "    949, 1437\n",
    "    147, 1448\n",
    "    \n",
    "B = 1, 2, 3\n",
    "    4, 5, 6\n",
    "    ```"
   ]
  },
  {
   "cell_type": "code",
   "execution_count": 1,
   "metadata": {},
   "outputs": [
    {
     "name": "stdout",
     "output_type": "stream",
     "text": [
      "A=\n",
      "[[1402  191]\n",
      " [1371  821]\n",
      " [ 949 1437]\n",
      " [ 147 1448]]\n",
      "B=\n",
      "[[1 2 3]\n",
      " [4 5 6]]\n"
     ]
    }
   ],
   "source": [
    "# Code Here\n",
    "import numpy as np\n",
    "A = np.array([[1402, 191],[1371,821], [949, 1437], [147,1448]])\n",
    "B = np.array([[1,2,3], [4,5,6]])\n",
    "\n",
    "print('A=')\n",
    "print(A)\n",
    "print('B=')\n",
    "print(B)"
   ]
  },
  {
   "cell_type": "markdown",
   "metadata": {},
   "source": [
    "## 2. Print the dimensions of A and B "
   ]
  },
  {
   "cell_type": "code",
   "execution_count": 3,
   "metadata": {},
   "outputs": [
    {
     "name": "stdout",
     "output_type": "stream",
     "text": [
      "Shape of A: (4, 2)\n",
      "Shape of B: (2, 3)\n"
     ]
    }
   ],
   "source": [
    "# Code Here\n",
    "print('Shape of A: ' + str(A.shape))\n",
    "print('Shape of B: ' + str(B.shape))"
   ]
  },
  {
   "cell_type": "markdown",
   "metadata": {},
   "source": [
    "## 3. Print some of the elements from A at following locations\n",
    "* first row and first column\n",
    "* first row and second column\n",
    "* third row and second column\n",
    "* fourth row and first column"
   ]
  },
  {
   "cell_type": "code",
   "execution_count": 4,
   "metadata": {},
   "outputs": [
    {
     "name": "stdout",
     "output_type": "stream",
     "text": [
      "1402\n",
      "191\n",
      "1437\n",
      "147\n"
     ]
    }
   ],
   "source": [
    "# Code Here\n",
    "print(A[0,0])\n",
    "print(A[0,1])\n",
    "print(A[2,1])\n",
    "print(A[3,0])"
   ]
  },
  {
   "cell_type": "markdown",
   "metadata": {},
   "source": [
    "## 4. Write a routine to populate matrix with random data\n",
    "* Create an 3x3 numpy array with all zeros (use `np.zeros()`)\n",
    "* Access each location i,j of this matrix and fill in random values between the range 1 and 10. "
   ]
  },
  {
   "cell_type": "code",
   "execution_count": 17,
   "metadata": {},
   "outputs": [
    {
     "data": {
      "text/plain": [
       "array([[7., 9., 1., 7.],\n",
       "       [8., 7., 1., 4.],\n",
       "       [5., 3., 8., 4.],\n",
       "       [6., 4., 6., 5.]])"
      ]
     },
     "execution_count": 17,
     "metadata": {},
     "output_type": "execute_result"
    }
   ],
   "source": [
    "def randmat(a,b):\n",
    "    matrix= np.zeros((a,b))\n",
    "    for i in range(0,matrix.shape[0]):\n",
    "        for j in range(0,matrix.shape[1]):\n",
    "            matrix[i,j] = np.random.randint(low=1, high=10)\n",
    "    return matrix\n",
    "\n",
    "randmat(4,4)"
   ]
  },
  {
   "cell_type": "code",
   "execution_count": 54,
   "metadata": {},
   "outputs": [
    {
     "name": "stdout",
     "output_type": "stream",
     "text": [
      "before random data:\n",
      " [[0. 0. 0.]\n",
      " [0. 0. 0.]\n",
      " [0. 0. 0.]]\n",
      "\n",
      "after random data:\n",
      " [[2. 7. 5.]\n",
      " [7. 9. 3.]\n",
      " [6. 5. 9.]]\n"
     ]
    }
   ],
   "source": [
    "# Code Here (due to random data , your output might be different)"
   ]
  },
  {
   "cell_type": "markdown",
   "metadata": {},
   "source": [
    "## 5. Turn above routine into a function.\n",
    "* Create two 4x4 zero valued matrices and fill with random data using the function\n",
    "* Add the matrices together in numpy \n",
    "* Show the results"
   ]
  },
  {
   "cell_type": "code",
   "execution_count": 18,
   "metadata": {},
   "outputs": [
    {
     "data": {
      "text/plain": [
       "array([[11., 12., 12.,  5.],\n",
       "       [15., 12., 14.,  7.],\n",
       "       [11.,  5.,  9.,  8.],\n",
       "       [ 6., 10.,  6., 10.]])"
      ]
     },
     "execution_count": 18,
     "metadata": {},
     "output_type": "execute_result"
    }
   ],
   "source": [
    "# Code Here (due to random data , your output might be different)\n",
    "A = randmat(4,4)\n",
    "B = randmat(4,4)\n",
    "C = A+B\n",
    "C"
   ]
  },
  {
   "cell_type": "markdown",
   "metadata": {},
   "source": [
    "## Summary \n",
    "\n",
    "In this lab, we saw how to create and manipulate vectors and matrices in numpy. We shall now move forward to learning more complex operations including dot products and inverses. "
   ]
  }
 ],
 "metadata": {
  "kernelspec": {
   "display_name": "Python 3",
   "language": "python",
   "name": "python3"
  },
  "language_info": {
   "codemirror_mode": {
    "name": "ipython",
    "version": 3
   },
   "file_extension": ".py",
   "mimetype": "text/x-python",
   "name": "python",
   "nbconvert_exporter": "python",
   "pygments_lexer": "ipython3",
   "version": "3.6.5"
  }
 },
 "nbformat": 4,
 "nbformat_minor": 2
}
